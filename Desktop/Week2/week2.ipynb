{
  "nbformat": 4,
  "nbformat_minor": 0,
  "metadata": {
    "colab": {
      "provenance": []
    },
    "kernelspec": {
      "name": "python3",
      "display_name": "Python 3"
    },
    "language_info": {
      "name": "python"
    }
  },
  "cells": [
    {
      "cell_type": "markdown",
      "source": [
        "**Q1. Write pandas Series code without using Dictionary**"
      ],
      "metadata": {
        "id": "fMKJNdZkv9ad"
      }
    },
    {
      "cell_type": "code",
      "source": [
        "letters = ['a', 'x', 'c', '2', 'e']\n",
        "index = [1, 4, 9, 6, 7]\n",
        "Series = pd.Series(index, index=letters)\n",
        "print(Series)"
      ],
      "metadata": {
        "colab": {
          "base_uri": "https://localhost:8080/"
        },
        "id": "YnzO8tpkwB28",
        "outputId": "419f43a4-fe2e-49d0-91ad-7054a291d15a"
      },
      "execution_count": 20,
      "outputs": [
        {
          "output_type": "stream",
          "name": "stdout",
          "text": [
            "a    1\n",
            "x    4\n",
            "c    9\n",
            "2    6\n",
            "e    7\n",
            "dtype: int64\n"
          ]
        }
      ]
    },
    {
      "cell_type": "markdown",
      "source": [
        "**Q2. Pandas Series using Dictionary**"
      ],
      "metadata": {
        "id": "Kk3pEZD4wNoo"
      }
    },
    {
      "cell_type": "code",
      "source": [
        "using_Dict = {'Bilal': 42, 'Ayesha': 38, 'Hadia': 23}\n",
        "pd_dict = pd.Series(using_Dict)\n",
        "print(pd_dict)"
      ],
      "metadata": {
        "colab": {
          "base_uri": "https://localhost:8080/"
        },
        "id": "ePawcGGCwb7c",
        "outputId": "f58cd582-8fbf-4b57-c6ef-c0aa4ed39904"
      },
      "execution_count": 21,
      "outputs": [
        {
          "output_type": "stream",
          "name": "stdout",
          "text": [
            "Bilal     42\n",
            "Ayesha    38\n",
            "Hadia     23\n",
            "dtype: int64\n"
          ]
        }
      ]
    },
    {
      "cell_type": "markdown",
      "source": [
        "**Q3. Pandas Dataframe using data Dictionary**"
      ],
      "metadata": {
        "id": "-nk-hVNPwkHJ"
      }
    },
    {
      "cell_type": "code",
      "source": [
        "g_data = {'day': ['1/1/2017', '1/2/2017', '1/3/2017', '1/3/2017', '1/4/2017', '1/5/2017'],\n",
        "        'temprature': [32, 35, 28, 24, 32, 31],\n",
        "        'windspeed': [6, 7, 2, 7, 4, 2],\n",
        "        'event': ['Rain', 'Sunny', 'Sunny', 'Snow', 'Rain', 'Snow']}\n",
        "\n",
        "df = pd.DataFrame(data=g_data)\n",
        "print(df)"
      ],
      "metadata": {
        "colab": {
          "base_uri": "https://localhost:8080/"
        },
        "id": "4sWCFWNvwj0N",
        "outputId": "b7e43dde-fe80-425e-9731-dacce9780e2a"
      },
      "execution_count": 22,
      "outputs": [
        {
          "output_type": "stream",
          "name": "stdout",
          "text": [
            "        day  temprature  windspeed  event\n",
            "0  1/1/2017          32          6   Rain\n",
            "1  1/2/2017          35          7  Sunny\n",
            "2  1/3/2017          28          2  Sunny\n",
            "3  1/3/2017          24          7   Snow\n",
            "4  1/4/2017          32          4   Rain\n",
            "5  1/5/2017          31          2   Snow\n"
          ]
        }
      ]
    },
    {
      "cell_type": "markdown",
      "source": [
        "**Q4. Pandas Dataframe index change**"
      ],
      "metadata": {
        "id": "5qVsTFodw9MM"
      }
    },
    {
      "cell_type": "code",
      "source": [
        "df = pd.DataFrame(data=g_data, index=['a', 'b', 'c', 'd', 'e', 'f'])\n",
        "print(df)"
      ],
      "metadata": {
        "colab": {
          "base_uri": "https://localhost:8080/"
        },
        "id": "c7-xe1Yqw9-g",
        "outputId": "880cda85-b794-4da7-97f9-7569f8a57829"
      },
      "execution_count": 23,
      "outputs": [
        {
          "output_type": "stream",
          "name": "stdout",
          "text": [
            "        day  temprature  windspeed  event\n",
            "a  1/1/2017          32          6   Rain\n",
            "b  1/2/2017          35          7  Sunny\n",
            "c  1/3/2017          28          2  Sunny\n",
            "d  1/3/2017          24          7   Snow\n",
            "e  1/4/2017          32          4   Rain\n",
            "f  1/5/2017          31          2   Snow\n"
          ]
        }
      ]
    },
    {
      "cell_type": "markdown",
      "source": [
        "**Q5. calculate mean, maximum, minmum**"
      ],
      "metadata": {
        "id": "yG_fhYiExGb6"
      }
    },
    {
      "cell_type": "code",
      "source": [
        "#Minimum Value\n",
        "min_val = df['temprature'].min()\n",
        "print('Minimum Value:', min_val)"
      ],
      "metadata": {
        "colab": {
          "base_uri": "https://localhost:8080/"
        },
        "id": "kzMTbnnzxH5a",
        "outputId": "b69b7b9c-69a6-4327-a970-285b33939155"
      },
      "execution_count": 24,
      "outputs": [
        {
          "output_type": "stream",
          "name": "stdout",
          "text": [
            "Minimum Value: 24\n"
          ]
        }
      ]
    },
    {
      "cell_type": "code",
      "source": [
        "#Maximum Value\n",
        "max_val = df['temprature'].max()\n",
        "print('Maximum Value:', max_val)"
      ],
      "metadata": {
        "colab": {
          "base_uri": "https://localhost:8080/"
        },
        "id": "apml04JVxNkD",
        "outputId": "4f3ff91a-a47e-43a6-a6d2-d0dc2376e215"
      },
      "execution_count": 25,
      "outputs": [
        {
          "output_type": "stream",
          "name": "stdout",
          "text": [
            "Maximum Value: 35\n"
          ]
        }
      ]
    },
    {
      "cell_type": "code",
      "source": [
        "#Mean value\n",
        "mean_val = df['temprature'].mean()\n",
        "print('Mean value: {:.2f}'.format(mean_val ))"
      ],
      "metadata": {
        "colab": {
          "base_uri": "https://localhost:8080/"
        },
        "id": "RikIRaZlxRqG",
        "outputId": "feeea0b6-e295-4ea1-9b0a-7cfba6c3a19c"
      },
      "execution_count": 26,
      "outputs": [
        {
          "output_type": "stream",
          "name": "stdout",
          "text": [
            "Mean value: 30.33\n"
          ]
        }
      ]
    },
    {
      "cell_type": "code",
      "execution_count": 1,
      "metadata": {
        "id": "l95vHj8mXKxG"
      },
      "outputs": [],
      "source": [
        "import pandas as pd"
      ]
    },
    {
      "cell_type": "markdown",
      "source": [
        "**Q6. Import the Csv folder with following instructions**\n",
        "*   You’re required to import only specific columns\n",
        "*   [\"First Name\", \"Sex\", \"Email\", “Phone”, “Job  \n",
        "     Title”]\n",
        "*   Set the following columns [\"Sex\", \"Job Title\"] as index columns\n",
        "*   Skip following rows [1,5]\n",
        "*   Export the CSV as “NewPeople.csv\n",
        "\n",
        "\n",
        "\n"
      ],
      "metadata": {
        "id": "Ot259r9jxjuw"
      }
    },
    {
      "cell_type": "code",
      "source": [
        "columns = ['First Name', 'Sex', 'Email', 'Phone', 'Job Title']\n",
        "skip_rows = [1, 5]"
      ],
      "metadata": {
        "id": "6qkdE8PF0iC_"
      },
      "execution_count": 31,
      "outputs": []
    },
    {
      "cell_type": "code",
      "source": [
        "data = pd.read_csv('people.csv', usecols=columns, skiprows=skip_rows)\n",
        "\n",
        "#set Index column\n",
        "\n",
        "index_columns = [\"Sex\", \"Job Title\"]\n",
        "df.set_index(index_columns, inplace=True)"
      ],
      "metadata": {
        "id": "RgvhB6lTz-61"
      },
      "execution_count": 29,
      "outputs": []
    },
    {
      "cell_type": "code",
      "source": [
        "# Export the DataFrame to a new CSV file\n",
        "df.to_csv(\"NewPeople.csv\")\n",
        "\n",
        "print(\"NewPeople.csv has been exported successfully.\")"
      ],
      "metadata": {
        "colab": {
          "base_uri": "https://localhost:8080/"
        },
        "id": "SLhD8UAp29K7",
        "outputId": "8e86fcba-e0b8-4564-e86e-d67d58bd33c2"
      },
      "execution_count": 36,
      "outputs": [
        {
          "output_type": "stream",
          "name": "stdout",
          "text": [
            "NewPeople.csv has been exported successfully.\n"
          ]
        }
      ]
    },
    {
      "cell_type": "markdown",
      "source": [
        "**Q.7:** Import excel sheet ‘SampleWork.xlsx’ in the given folder. Keep in mind the following instructions:\n",
        "*   Import sheet 1\n",
        "*   Import only first and last column from sheet 1\n",
        "*   Skip row 2 while importing the sheet\n",
        "*   Skip row 2 while importing the sheet\n",
        "*   Set row 2 as header\n",
        "*  export as new sheet.\n",
        "\n",
        "\n",
        "\n",
        "\n",
        "\n",
        "\n",
        "\n",
        "\n"
      ],
      "metadata": {
        "id": "52vExRrZdLuY"
      }
    },
    {
      "cell_type": "code",
      "source": [
        "data = pd.read_excel('SampleWork.xlsx', sheet_name='Sheet1', usecols=[0,3], skiprows=[1], header=1)\n",
        "print(data)\n",
        "\n",
        "#Export it to excel file\n",
        "data.to_excel('NewSampleWork.xlsx', index=False)\n",
        "print(\"Sample data of 'Sample.xlsx' has been converted to newsample file.xlsx\")"
      ],
      "metadata": {
        "colab": {
          "base_uri": "https://localhost:8080/"
        },
        "id": "NSlgWgDWZWDg",
        "outputId": "5c5af86f-d799-4b75-8f83-b6e8f1bd4080"
      },
      "execution_count": 8,
      "outputs": [
        {
          "output_type": "stream",
          "name": "stdout",
          "text": [
            "   1\n",
            "0  2\n",
            "Sample data of 'Sample.xlsx' has been converted to newsample file.xlsx\n"
          ]
        },
        {
          "output_type": "stream",
          "name": "stderr",
          "text": [
            "<ipython-input-8-e4a31e8ff444>:1: FutureWarning: Defining usecols with out of bounds indices is deprecated and will raise a ParserError in a future version.\n",
            "  data = pd.read_excel('/content/drive/MyDrive/SampleWork.xlsx', sheet_name='Sheet1', usecols=[0,3], skiprows=[1], header=1)\n"
          ]
        }
      ]
    },
    {
      "cell_type": "markdown",
      "source": [
        "**Q.8:** Create the following dataframe as AICP_DF then implement different operations as described below:\n",
        "*   select 'Name', 'Qualification' coloumns and save to df1\n",
        "*   add a new column to AICP_DF “Height” with the following values: [5.1, 6.2, 5.1, 5.2,5.1]\n",
        "*   set column “Name” as the index column.\n",
        "*   retrieve row with index “Hifza”\n",
        "*   retrieve row with index 3\n",
        "*   drop row with index “Bilal"
      ],
      "metadata": {
        "id": "K9TYWz-kf_rD"
      }
    },
    {
      "cell_type": "code",
      "source": [
        "AICP_DF = {'Name': ['Sonia', 'Bilal', 'Hifza', 'Kabir', 'Jazim'],\n",
        "           'Age': [27, 24, 22, 32, 23],\n",
        "           'Adress': ['Lahore', 'karachi', 'Sialkot', 'Peshawar', 'Lhr'],\n",
        "           'Qualification': ['MSc', 'MA', 'MCA', 'Phd', 'Bsc']}\n",
        "\n",
        "df = pd.DataFrame(AICP_DF)\n",
        "print(df)"
      ],
      "metadata": {
        "colab": {
          "base_uri": "https://localhost:8080/"
        },
        "id": "fJYxlccjZXHW",
        "outputId": "74dbe132-997a-4dcc-e0d2-e5c4de6ffa84"
      },
      "execution_count": 10,
      "outputs": [
        {
          "output_type": "stream",
          "name": "stdout",
          "text": [
            "    Name  Age    Adress Qualification\n",
            "0  Sonia   27    Lahore           MSc\n",
            "1  Bilal   24   karachi            MA\n",
            "2  Hifza   22   Sialkot           MCA\n",
            "3  Kabir   32  Peshawar           Phd\n",
            "4  Jazim   23       Lhr           Bsc\n"
          ]
        }
      ]
    },
    {
      "cell_type": "code",
      "source": [
        "df1 = df[['Name', 'Qualification']]\n",
        "print(df1)"
      ],
      "metadata": {
        "colab": {
          "base_uri": "https://localhost:8080/"
        },
        "id": "wY1u7u0Sm3VA",
        "outputId": "d16cea9c-cfee-49f1-9945-092554b89921"
      },
      "execution_count": 14,
      "outputs": [
        {
          "output_type": "stream",
          "name": "stdout",
          "text": [
            "    Name Qualification\n",
            "0  Sonia           MSc\n",
            "1  Bilal            MA\n",
            "2  Hifza           MCA\n",
            "3  Kabir           Phd\n",
            "4  Jazim           Bsc\n"
          ]
        }
      ]
    },
    {
      "cell_type": "code",
      "source": [
        "#Set column name as index Name\n",
        "df['Height'] = [5.1, 6.2, 5.1, 5.2,5.1]\n",
        "df.set_index('Name', inplace=True)\n",
        "print(df)"
      ],
      "metadata": {
        "colab": {
          "base_uri": "https://localhost:8080/"
        },
        "id": "8qBB-IJ9o_PQ",
        "outputId": "39dec396-84b6-4157-db20-566f72b32a19"
      },
      "execution_count": 15,
      "outputs": [
        {
          "output_type": "stream",
          "name": "stdout",
          "text": [
            "       Age    Adress Qualification  Height\n",
            "Name                                      \n",
            "Sonia   27    Lahore           MSc     5.1\n",
            "Bilal   24   karachi            MA     6.2\n",
            "Hifza   22   Sialkot           MCA     5.1\n",
            "Kabir   32  Peshawar           Phd     5.2\n",
            "Jazim   23       Lhr           Bsc     5.1\n"
          ]
        }
      ]
    },
    {
      "cell_type": "code",
      "source": [
        "#Retrieve column 'Name' with index 'Hifza'\n",
        "df.loc['Hifza']"
      ],
      "metadata": {
        "colab": {
          "base_uri": "https://localhost:8080/"
        },
        "id": "jChgMoLxss3Y",
        "outputId": "2707182d-e269-48a8-df1e-cac0faf140cd"
      },
      "execution_count": 17,
      "outputs": [
        {
          "output_type": "execute_result",
          "data": {
            "text/plain": [
              "Age                   22\n",
              "Adress           Sialkot\n",
              "Qualification        MCA\n",
              "Height               5.1\n",
              "Name: Hifza, dtype: object"
            ]
          },
          "metadata": {},
          "execution_count": 17
        }
      ]
    },
    {
      "cell_type": "code",
      "source": [
        "#Retrieve Column with index 3\n",
        "df.iloc[3]"
      ],
      "metadata": {
        "colab": {
          "base_uri": "https://localhost:8080/"
        },
        "id": "W8y8TfBQtMAH",
        "outputId": "d9b9bc78-e0be-4a5c-9eb5-bc701e2d2290"
      },
      "execution_count": 18,
      "outputs": [
        {
          "output_type": "execute_result",
          "data": {
            "text/plain": [
              "Age                    32\n",
              "Adress           Peshawar\n",
              "Qualification         Phd\n",
              "Height                5.2\n",
              "Name: Kabir, dtype: object"
            ]
          },
          "metadata": {},
          "execution_count": 18
        }
      ]
    },
    {
      "cell_type": "code",
      "source": [
        "df.drop('Bilal', axis=0, inplace=True)\n",
        "df"
      ],
      "metadata": {
        "colab": {
          "base_uri": "https://localhost:8080/",
          "height": 206
        },
        "id": "RFexIHMatbYn",
        "outputId": "78e34166-f078-4de7-8d15-ca40e819e91c"
      },
      "execution_count": 19,
      "outputs": [
        {
          "output_type": "execute_result",
          "data": {
            "text/plain": [
              "       Age    Adress Qualification  Height\n",
              "Name                                      \n",
              "Sonia   27    Lahore           MSc     5.1\n",
              "Hifza   22   Sialkot           MCA     5.1\n",
              "Kabir   32  Peshawar           Phd     5.2\n",
              "Jazim   23       Lhr           Bsc     5.1"
            ],
            "text/html": [
              "\n",
              "  <div id=\"df-dd8cf405-6f07-41bd-8da0-a9db820a9f2e\" class=\"colab-df-container\">\n",
              "    <div>\n",
              "<style scoped>\n",
              "    .dataframe tbody tr th:only-of-type {\n",
              "        vertical-align: middle;\n",
              "    }\n",
              "\n",
              "    .dataframe tbody tr th {\n",
              "        vertical-align: top;\n",
              "    }\n",
              "\n",
              "    .dataframe thead th {\n",
              "        text-align: right;\n",
              "    }\n",
              "</style>\n",
              "<table border=\"1\" class=\"dataframe\">\n",
              "  <thead>\n",
              "    <tr style=\"text-align: right;\">\n",
              "      <th></th>\n",
              "      <th>Age</th>\n",
              "      <th>Adress</th>\n",
              "      <th>Qualification</th>\n",
              "      <th>Height</th>\n",
              "    </tr>\n",
              "    <tr>\n",
              "      <th>Name</th>\n",
              "      <th></th>\n",
              "      <th></th>\n",
              "      <th></th>\n",
              "      <th></th>\n",
              "    </tr>\n",
              "  </thead>\n",
              "  <tbody>\n",
              "    <tr>\n",
              "      <th>Sonia</th>\n",
              "      <td>27</td>\n",
              "      <td>Lahore</td>\n",
              "      <td>MSc</td>\n",
              "      <td>5.1</td>\n",
              "    </tr>\n",
              "    <tr>\n",
              "      <th>Hifza</th>\n",
              "      <td>22</td>\n",
              "      <td>Sialkot</td>\n",
              "      <td>MCA</td>\n",
              "      <td>5.1</td>\n",
              "    </tr>\n",
              "    <tr>\n",
              "      <th>Kabir</th>\n",
              "      <td>32</td>\n",
              "      <td>Peshawar</td>\n",
              "      <td>Phd</td>\n",
              "      <td>5.2</td>\n",
              "    </tr>\n",
              "    <tr>\n",
              "      <th>Jazim</th>\n",
              "      <td>23</td>\n",
              "      <td>Lhr</td>\n",
              "      <td>Bsc</td>\n",
              "      <td>5.1</td>\n",
              "    </tr>\n",
              "  </tbody>\n",
              "</table>\n",
              "</div>\n",
              "    <div class=\"colab-df-buttons\">\n",
              "\n",
              "  <div class=\"colab-df-container\">\n",
              "    <button class=\"colab-df-convert\" onclick=\"convertToInteractive('df-dd8cf405-6f07-41bd-8da0-a9db820a9f2e')\"\n",
              "            title=\"Convert this dataframe to an interactive table.\"\n",
              "            style=\"display:none;\">\n",
              "\n",
              "  <svg xmlns=\"http://www.w3.org/2000/svg\" height=\"24px\" viewBox=\"0 -960 960 960\">\n",
              "    <path d=\"M120-120v-720h720v720H120Zm60-500h600v-160H180v160Zm220 220h160v-160H400v160Zm0 220h160v-160H400v160ZM180-400h160v-160H180v160Zm440 0h160v-160H620v160ZM180-180h160v-160H180v160Zm440 0h160v-160H620v160Z\"/>\n",
              "  </svg>\n",
              "    </button>\n",
              "\n",
              "  <style>\n",
              "    .colab-df-container {\n",
              "      display:flex;\n",
              "      gap: 12px;\n",
              "    }\n",
              "\n",
              "    .colab-df-convert {\n",
              "      background-color: #E8F0FE;\n",
              "      border: none;\n",
              "      border-radius: 50%;\n",
              "      cursor: pointer;\n",
              "      display: none;\n",
              "      fill: #1967D2;\n",
              "      height: 32px;\n",
              "      padding: 0 0 0 0;\n",
              "      width: 32px;\n",
              "    }\n",
              "\n",
              "    .colab-df-convert:hover {\n",
              "      background-color: #E2EBFA;\n",
              "      box-shadow: 0px 1px 2px rgba(60, 64, 67, 0.3), 0px 1px 3px 1px rgba(60, 64, 67, 0.15);\n",
              "      fill: #174EA6;\n",
              "    }\n",
              "\n",
              "    .colab-df-buttons div {\n",
              "      margin-bottom: 4px;\n",
              "    }\n",
              "\n",
              "    [theme=dark] .colab-df-convert {\n",
              "      background-color: #3B4455;\n",
              "      fill: #D2E3FC;\n",
              "    }\n",
              "\n",
              "    [theme=dark] .colab-df-convert:hover {\n",
              "      background-color: #434B5C;\n",
              "      box-shadow: 0px 1px 3px 1px rgba(0, 0, 0, 0.15);\n",
              "      filter: drop-shadow(0px 1px 2px rgba(0, 0, 0, 0.3));\n",
              "      fill: #FFFFFF;\n",
              "    }\n",
              "  </style>\n",
              "\n",
              "    <script>\n",
              "      const buttonEl =\n",
              "        document.querySelector('#df-dd8cf405-6f07-41bd-8da0-a9db820a9f2e button.colab-df-convert');\n",
              "      buttonEl.style.display =\n",
              "        google.colab.kernel.accessAllowed ? 'block' : 'none';\n",
              "\n",
              "      async function convertToInteractive(key) {\n",
              "        const element = document.querySelector('#df-dd8cf405-6f07-41bd-8da0-a9db820a9f2e');\n",
              "        const dataTable =\n",
              "          await google.colab.kernel.invokeFunction('convertToInteractive',\n",
              "                                                    [key], {});\n",
              "        if (!dataTable) return;\n",
              "\n",
              "        const docLinkHtml = 'Like what you see? Visit the ' +\n",
              "          '<a target=\"_blank\" href=https://colab.research.google.com/notebooks/data_table.ipynb>data table notebook</a>'\n",
              "          + ' to learn more about interactive tables.';\n",
              "        element.innerHTML = '';\n",
              "        dataTable['output_type'] = 'display_data';\n",
              "        await google.colab.output.renderOutput(dataTable, element);\n",
              "        const docLink = document.createElement('div');\n",
              "        docLink.innerHTML = docLinkHtml;\n",
              "        element.appendChild(docLink);\n",
              "      }\n",
              "    </script>\n",
              "  </div>\n",
              "\n",
              "\n",
              "<div id=\"df-7237040c-2d47-4382-93c8-5b85ad41e6b9\">\n",
              "  <button class=\"colab-df-quickchart\" onclick=\"quickchart('df-7237040c-2d47-4382-93c8-5b85ad41e6b9')\"\n",
              "            title=\"Suggest charts\"\n",
              "            style=\"display:none;\">\n",
              "\n",
              "<svg xmlns=\"http://www.w3.org/2000/svg\" height=\"24px\"viewBox=\"0 0 24 24\"\n",
              "     width=\"24px\">\n",
              "    <g>\n",
              "        <path d=\"M19 3H5c-1.1 0-2 .9-2 2v14c0 1.1.9 2 2 2h14c1.1 0 2-.9 2-2V5c0-1.1-.9-2-2-2zM9 17H7v-7h2v7zm4 0h-2V7h2v10zm4 0h-2v-4h2v4z\"/>\n",
              "    </g>\n",
              "</svg>\n",
              "  </button>\n",
              "\n",
              "<style>\n",
              "  .colab-df-quickchart {\n",
              "      --bg-color: #E8F0FE;\n",
              "      --fill-color: #1967D2;\n",
              "      --hover-bg-color: #E2EBFA;\n",
              "      --hover-fill-color: #174EA6;\n",
              "      --disabled-fill-color: #AAA;\n",
              "      --disabled-bg-color: #DDD;\n",
              "  }\n",
              "\n",
              "  [theme=dark] .colab-df-quickchart {\n",
              "      --bg-color: #3B4455;\n",
              "      --fill-color: #D2E3FC;\n",
              "      --hover-bg-color: #434B5C;\n",
              "      --hover-fill-color: #FFFFFF;\n",
              "      --disabled-bg-color: #3B4455;\n",
              "      --disabled-fill-color: #666;\n",
              "  }\n",
              "\n",
              "  .colab-df-quickchart {\n",
              "    background-color: var(--bg-color);\n",
              "    border: none;\n",
              "    border-radius: 50%;\n",
              "    cursor: pointer;\n",
              "    display: none;\n",
              "    fill: var(--fill-color);\n",
              "    height: 32px;\n",
              "    padding: 0;\n",
              "    width: 32px;\n",
              "  }\n",
              "\n",
              "  .colab-df-quickchart:hover {\n",
              "    background-color: var(--hover-bg-color);\n",
              "    box-shadow: 0 1px 2px rgba(60, 64, 67, 0.3), 0 1px 3px 1px rgba(60, 64, 67, 0.15);\n",
              "    fill: var(--button-hover-fill-color);\n",
              "  }\n",
              "\n",
              "  .colab-df-quickchart-complete:disabled,\n",
              "  .colab-df-quickchart-complete:disabled:hover {\n",
              "    background-color: var(--disabled-bg-color);\n",
              "    fill: var(--disabled-fill-color);\n",
              "    box-shadow: none;\n",
              "  }\n",
              "\n",
              "  .colab-df-spinner {\n",
              "    border: 2px solid var(--fill-color);\n",
              "    border-color: transparent;\n",
              "    border-bottom-color: var(--fill-color);\n",
              "    animation:\n",
              "      spin 1s steps(1) infinite;\n",
              "  }\n",
              "\n",
              "  @keyframes spin {\n",
              "    0% {\n",
              "      border-color: transparent;\n",
              "      border-bottom-color: var(--fill-color);\n",
              "      border-left-color: var(--fill-color);\n",
              "    }\n",
              "    20% {\n",
              "      border-color: transparent;\n",
              "      border-left-color: var(--fill-color);\n",
              "      border-top-color: var(--fill-color);\n",
              "    }\n",
              "    30% {\n",
              "      border-color: transparent;\n",
              "      border-left-color: var(--fill-color);\n",
              "      border-top-color: var(--fill-color);\n",
              "      border-right-color: var(--fill-color);\n",
              "    }\n",
              "    40% {\n",
              "      border-color: transparent;\n",
              "      border-right-color: var(--fill-color);\n",
              "      border-top-color: var(--fill-color);\n",
              "    }\n",
              "    60% {\n",
              "      border-color: transparent;\n",
              "      border-right-color: var(--fill-color);\n",
              "    }\n",
              "    80% {\n",
              "      border-color: transparent;\n",
              "      border-right-color: var(--fill-color);\n",
              "      border-bottom-color: var(--fill-color);\n",
              "    }\n",
              "    90% {\n",
              "      border-color: transparent;\n",
              "      border-bottom-color: var(--fill-color);\n",
              "    }\n",
              "  }\n",
              "</style>\n",
              "\n",
              "  <script>\n",
              "    async function quickchart(key) {\n",
              "      const quickchartButtonEl =\n",
              "        document.querySelector('#' + key + ' button');\n",
              "      quickchartButtonEl.disabled = true;  // To prevent multiple clicks.\n",
              "      quickchartButtonEl.classList.add('colab-df-spinner');\n",
              "      try {\n",
              "        const charts = await google.colab.kernel.invokeFunction(\n",
              "            'suggestCharts', [key], {});\n",
              "      } catch (error) {\n",
              "        console.error('Error during call to suggestCharts:', error);\n",
              "      }\n",
              "      quickchartButtonEl.classList.remove('colab-df-spinner');\n",
              "      quickchartButtonEl.classList.add('colab-df-quickchart-complete');\n",
              "    }\n",
              "    (() => {\n",
              "      let quickchartButtonEl =\n",
              "        document.querySelector('#df-7237040c-2d47-4382-93c8-5b85ad41e6b9 button');\n",
              "      quickchartButtonEl.style.display =\n",
              "        google.colab.kernel.accessAllowed ? 'block' : 'none';\n",
              "    })();\n",
              "  </script>\n",
              "</div>\n",
              "\n",
              "  <div id=\"id_f1153805-dfe1-4936-82c2-d72f6e080bde\">\n",
              "    <style>\n",
              "      .colab-df-generate {\n",
              "        background-color: #E8F0FE;\n",
              "        border: none;\n",
              "        border-radius: 50%;\n",
              "        cursor: pointer;\n",
              "        display: none;\n",
              "        fill: #1967D2;\n",
              "        height: 32px;\n",
              "        padding: 0 0 0 0;\n",
              "        width: 32px;\n",
              "      }\n",
              "\n",
              "      .colab-df-generate:hover {\n",
              "        background-color: #E2EBFA;\n",
              "        box-shadow: 0px 1px 2px rgba(60, 64, 67, 0.3), 0px 1px 3px 1px rgba(60, 64, 67, 0.15);\n",
              "        fill: #174EA6;\n",
              "      }\n",
              "\n",
              "      [theme=dark] .colab-df-generate {\n",
              "        background-color: #3B4455;\n",
              "        fill: #D2E3FC;\n",
              "      }\n",
              "\n",
              "      [theme=dark] .colab-df-generate:hover {\n",
              "        background-color: #434B5C;\n",
              "        box-shadow: 0px 1px 3px 1px rgba(0, 0, 0, 0.15);\n",
              "        filter: drop-shadow(0px 1px 2px rgba(0, 0, 0, 0.3));\n",
              "        fill: #FFFFFF;\n",
              "      }\n",
              "    </style>\n",
              "    <button class=\"colab-df-generate\" onclick=\"generateWithVariable('df')\"\n",
              "            title=\"Generate code using this dataframe.\"\n",
              "            style=\"display:none;\">\n",
              "\n",
              "  <svg xmlns=\"http://www.w3.org/2000/svg\" height=\"24px\"viewBox=\"0 0 24 24\"\n",
              "       width=\"24px\">\n",
              "    <path d=\"M7,19H8.4L18.45,9,17,7.55,7,17.6ZM5,21V16.75L18.45,3.32a2,2,0,0,1,2.83,0l1.4,1.43a1.91,1.91,0,0,1,.58,1.4,1.91,1.91,0,0,1-.58,1.4L9.25,21ZM18.45,9,17,7.55Zm-12,3A5.31,5.31,0,0,0,4.9,8.1,5.31,5.31,0,0,0,1,6.5,5.31,5.31,0,0,0,4.9,4.9,5.31,5.31,0,0,0,6.5,1,5.31,5.31,0,0,0,8.1,4.9,5.31,5.31,0,0,0,12,6.5,5.46,5.46,0,0,0,6.5,12Z\"/>\n",
              "  </svg>\n",
              "    </button>\n",
              "    <script>\n",
              "      (() => {\n",
              "      const buttonEl =\n",
              "        document.querySelector('#id_f1153805-dfe1-4936-82c2-d72f6e080bde button.colab-df-generate');\n",
              "      buttonEl.style.display =\n",
              "        google.colab.kernel.accessAllowed ? 'block' : 'none';\n",
              "\n",
              "      buttonEl.onclick = () => {\n",
              "        google.colab.notebook.generateWithVariable('df');\n",
              "      }\n",
              "      })();\n",
              "    </script>\n",
              "  </div>\n",
              "\n",
              "    </div>\n",
              "  </div>\n"
            ],
            "application/vnd.google.colaboratory.intrinsic+json": {
              "type": "dataframe",
              "variable_name": "df",
              "summary": "{\n  \"name\": \"df\",\n  \"rows\": 4,\n  \"fields\": [\n    {\n      \"column\": \"Name\",\n      \"properties\": {\n        \"dtype\": \"string\",\n        \"num_unique_values\": 4,\n        \"samples\": [\n          \"Hifza\",\n          \"Jazim\",\n          \"Sonia\"\n        ],\n        \"semantic_type\": \"\",\n        \"description\": \"\"\n      }\n    },\n    {\n      \"column\": \"Age\",\n      \"properties\": {\n        \"dtype\": \"number\",\n        \"std\": 4,\n        \"min\": 22,\n        \"max\": 32,\n        \"num_unique_values\": 4,\n        \"samples\": [\n          22,\n          23,\n          27\n        ],\n        \"semantic_type\": \"\",\n        \"description\": \"\"\n      }\n    },\n    {\n      \"column\": \"Adress\",\n      \"properties\": {\n        \"dtype\": \"string\",\n        \"num_unique_values\": 4,\n        \"samples\": [\n          \"Sialkot\",\n          \"Lhr\",\n          \"Lahore\"\n        ],\n        \"semantic_type\": \"\",\n        \"description\": \"\"\n      }\n    },\n    {\n      \"column\": \"Qualification\",\n      \"properties\": {\n        \"dtype\": \"string\",\n        \"num_unique_values\": 4,\n        \"samples\": [\n          \"MCA\",\n          \"Bsc\",\n          \"MSc\"\n        ],\n        \"semantic_type\": \"\",\n        \"description\": \"\"\n      }\n    },\n    {\n      \"column\": \"Height\",\n      \"properties\": {\n        \"dtype\": \"number\",\n        \"std\": 0.050000000000000266,\n        \"min\": 5.1,\n        \"max\": 5.2,\n        \"num_unique_values\": 2,\n        \"samples\": [\n          5.2,\n          5.1\n        ],\n        \"semantic_type\": \"\",\n        \"description\": \"\"\n      }\n    }\n  ]\n}"
            }
          },
          "metadata": {},
          "execution_count": 19
        }
      ]
    },
    {
      "cell_type": "code",
      "source": [],
      "metadata": {
        "id": "V1-WfSoat2tg"
      },
      "execution_count": null,
      "outputs": []
    }
  ]
}